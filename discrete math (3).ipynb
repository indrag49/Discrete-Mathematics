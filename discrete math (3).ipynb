{
 "cells": [
  {
   "cell_type": "code",
   "execution_count": 13,
   "metadata": {},
   "outputs": [],
   "source": [
    "import random\n",
    "from sympy import *\n",
    "import numpy as np"
   ]
  },
  {
   "cell_type": "markdown",
   "metadata": {},
   "source": [
    "### Chapter 5"
   ]
  },
  {
   "cell_type": "markdown",
   "metadata": {},
   "source": [
    "#### Prufer's Algorithm"
   ]
  },
  {
   "cell_type": "code",
   "execution_count": 3,
   "metadata": {},
   "outputs": [
    {
     "data": {
      "text/plain": [
       "[2, 2, 5, 5, 5]"
      ]
     },
     "execution_count": 3,
     "metadata": {},
     "output_type": "execute_result"
    }
   ],
   "source": [
    "#T=[[6, 2], [6, 7], [5, 6], [3, 5], [5, 1], [1, 4]]\n",
    "#V=[2, 6, 7, 3, 5, 1, 4]\n",
    "\n",
    "## Ex 5.1, 31\n",
    "T=[[1, 2], [2, 3], [5, 2], [5, 4], [6, 5], [7, 5]]\n",
    "V=[1, 2, 3, 4, 5, 6, 7]\n",
    "\n",
    "def PrA(T, V):\n",
    "    a=[]\n",
    "    while len(T)!=1:\n",
    "        L=[i for i in V if (flatten(T)).count(i)==1]\n",
    "        v1=min(L)\n",
    "        for i in T:\n",
    "            if v1 in i: \n",
    "                e=i\n",
    "                break\n",
    "    \n",
    "        ak=e[1] if e[0]==v1 else e[0]\n",
    "        del V[V.index(v1)]\n",
    "        a+=[ak, ]\n",
    "        del T[T.index(e)]\n",
    "    return a\n",
    "    return a\n",
    "\n",
    "PrA(T, V)"
   ]
  },
  {
   "cell_type": "markdown",
   "metadata": {},
   "source": [
    "#### Prim's Algorithm"
   ]
  },
  {
   "cell_type": "code",
   "execution_count": 70,
   "metadata": {},
   "outputs": [
    {
     "data": {
      "text/plain": [
       "([['G', 'C'],\n",
       "  ['J', 'G'],\n",
       "  ['G', 'F'],\n",
       "  ['A', 'F'],\n",
       "  ['A', 'E'],\n",
       "  ['I', 'J'],\n",
       "  ['D', 'C'],\n",
       "  ['H', 'D'],\n",
       "  ['A', 'B']],\n",
       " 21)"
      ]
     },
     "execution_count": 70,
     "metadata": {},
     "output_type": "execute_result"
    }
   ],
   "source": [
    "#Ed=[['A', 'B', 4], ['E', 'A', 3], ['B', 'E', 5], ['E', 'D', 2], ['E', 'C', 3], ['C', 'B', 5], ['C', 'D', 3]]\n",
    "\n",
    "#Ed=[['A', 'B', 9], ['D', 'B', 11], ['D','A', 3], ['B', 'F', 8], ['F', 'D', 9], ['F', 'C', 5], ['C', 'B', 8], ['E', 'F', 6], ['C', 'E', 3], ['E', 'D', 11]]\n",
    "\n",
    "## Ex 5.2, 19\n",
    "#Ed=[['C', 'B', 4], ['A', 'C', 3], ['C', 'D', 5], ['B', 'A', 6], ['A', 'D', 4], ['D', 'E', 2], ['H', 'E', 2], ['E', 'F', 4], ['F', 'I', 3], ['I', 'H', 3], ['I', 'G', 2], ['G', 'H', 4], ['G', 'E', 1]]\n",
    "\n",
    "## Ex 5.2, 18\n",
    "Ed=[['A', 'B', 4], ['A', 'E', 3], ['E', 'F', 6], ['F', 'B', 5], ['F', 'I', 4], ['I', 'J', 3], ['J', 'G', 1], ['G', 'F', 1], ['A', 'F', 2],['I', 'G', 5], ['G', 'C', 2], ['G', 'H', 4], ['H', 'D', 2], ['D', 'C', 3]]\n",
    "\n",
    "def PA(Ed, st):\n",
    "    \"\"\"Ed is the list of edges with weights and st is the starting vertex\"\"\"\n",
    "    E1=[]\n",
    "    E2=[]\n",
    "    for i in Ed:\n",
    "        E1+=[[i[0], i[1]], ]\n",
    "        E2+=[i[2], ]\n",
    "\n",
    "    X=flatten(E1)\n",
    "    V=list(set(X))\n",
    "    n=len(V)\n",
    "\n",
    "    E3=E1[:]\n",
    "    L=[st]\n",
    "    T=[]\n",
    "    w=0\n",
    "\n",
    "    while True:\n",
    "        I=[]\n",
    "        temp=[]\n",
    "        s=0\n",
    "        for i in E1:\n",
    "            if (i[0] in L and i[1] not in L) or (i[1] in L and i[0] not in L):\n",
    "                I+=[E1.index(i),]\n",
    "                temp+=[i,]\n",
    "\n",
    "        M=[E2[i] for i in I]\n",
    "        Min=min(M) # Max=max(M) for maximal spanning tree\n",
    "        te=temp[M.index(Min)]\n",
    "        T+=[te,]\n",
    "        del E3[E3.index(te)]\n",
    "        x, y=te[0], te[1]\n",
    "        L+=[x if y in L else y, ]\n",
    "    \n",
    "        for i in E3:\n",
    "            if (i[0] in L and i[1] not in L) or (i[1] in L and i[0] not in L):s+=1\n",
    "    \n",
    "        if s==0: break\n",
    "\n",
    "    for i in T: w+=E2[E1.index(i)]\n",
    "        \n",
    "    return T, w if len(L)==n else \"No minimal spanning tree\"\n",
    "\n",
    "PA(Ed, 'C')"
   ]
  },
  {
   "cell_type": "markdown",
   "metadata": {},
   "source": [
    "#### Kruskal's Algorithm"
   ]
  },
  {
   "cell_type": "code",
   "execution_count": 26,
   "metadata": {},
   "outputs": [
    {
     "data": {
      "text/plain": [
       "([['J', 'G'],\n",
       "  ['G', 'F'],\n",
       "  ['A', 'F'],\n",
       "  ['G', 'C'],\n",
       "  ['H', 'D'],\n",
       "  ['A', 'E'],\n",
       "  ['I', 'J'],\n",
       "  ['D', 'C'],\n",
       "  ['A', 'B']],\n",
       " 21)"
      ]
     },
     "execution_count": 26,
     "metadata": {},
     "output_type": "execute_result"
    }
   ],
   "source": [
    "#Ed=[['A', 'B', 4], ['E', 'A', 3], ['B', 'E', 5], ['E', 'D', 2], ['E', 'C', 3], ['C', 'B', 5], ['C', 'D', 3]]\n",
    "\n",
    "#Ed=[['C', 'B', 4], ['A', 'C', 3], ['C', 'D', 5], ['B', 'A', 6], ['A', 'D', 4], ['D', 'E', 2], ['H', 'E', 2], ['E', 'F', 4], ['F', 'I', 3], ['I', 'H', 3], ['I', 'G', 2], ['G', 'H', 4], ['G', 'E', 1]]\n",
    "\n",
    "Ed=[['A', 'B', 4], ['A', 'E', 3], ['E', 'F', 6], ['F', 'B', 5], ['F', 'I', 4], ['I', 'J', 3], ['J', 'G', 1], ['G', 'F', 1], ['A', 'F', 2],['I', 'G', 5], ['G', 'C', 2], ['G', 'H', 4], ['H', 'D', 2], ['D', 'C', 3]]\n",
    "\n",
    "def Kr_A(Ed):\n",
    "    E1=[]\n",
    "    E2=[]\n",
    "\n",
    "    for i in Ed:\n",
    "        E1+=[[i[0], i[1]], ]\n",
    "        E2+=[i[2], ]\n",
    "\n",
    "    X=flatten(E1)\n",
    "    V=list(set(X))\n",
    "    n=len(V)\n",
    "    E3=E1[:]\n",
    "    E4=E2[:]\n",
    "    w=0\n",
    "    M=min(E2)\n",
    "    e=E1[E2.index(M)]\n",
    "    cl=[e]\n",
    "    T=[e, ]\n",
    "    ind=E3.index(e)\n",
    "    del E3[ind]\n",
    "    del E4[ind]\n",
    "\n",
    "    while len(T)<n-1 and len(E3)!=0:\n",
    "        M=min(E4)\n",
    "        e=E3[E4.index(M)]\n",
    "\n",
    "        for i in cl:\n",
    "            if e[0] in i and e[1] not in i:\n",
    "                ind=cl.index(i)\n",
    "                cl1=cl[:ind]+cl[ind+1:]\n",
    "                s=0\n",
    "    \n",
    "                for j in cl1:\n",
    "                    if e[1] in j:\n",
    "                        ind1=cl1.index(j)\n",
    "                        cl[ind]=cl[ind]+cl1[ind1]\n",
    "                        J=j\n",
    "                        T+=[e,]\n",
    "                        break\n",
    "                    else:\n",
    "                        s+=1\n",
    "                if s==len(cl1):\n",
    "                    cl[ind]=cl[ind]+[e[1]]\n",
    "                    T+=[e, ]\n",
    "                    J=0\n",
    "                break\n",
    "            \n",
    "            elif e[1] in i and e[0] not in i:\n",
    "                ind=cl.index(i)\n",
    "                cl1=cl[:ind]+cl[ind+1:]\n",
    "                s=0\n",
    "            \n",
    "                for j in cl1:\n",
    "                    if e[0] in j:\n",
    "                        ind1=cl1.index(j)\n",
    "                        cl[ind]=cl[ind]+cl1[ind1]\n",
    "                        J=j\n",
    "                        T+=[e,]\n",
    "                        break\n",
    "                    else:\n",
    "                        s+=1\n",
    "\n",
    "                if s==len(cl1):\n",
    "                    cl[ind]=cl[ind]+[e[0]]\n",
    "                    T+=[e, ]\n",
    "                    J=0\n",
    "                break\n",
    "            elif e[0] not in i and e[1] not in i:\n",
    "                cl+=[e,]\n",
    "                T+=[e,]\n",
    "                J=0\n",
    "                break\n",
    "            else:\n",
    "                J=0\n",
    "                break\n",
    "            \n",
    "        ind=E3.index(e)\n",
    "        del E3[ind]\n",
    "        del E4[ind]\n",
    "        if J!=0: del cl[cl.index(j)]    \n",
    "    \n",
    "    for i in T: w+=E2[E1.index(i)]   \n",
    "    \n",
    "    return T, w\n",
    "Kr_A(Ed)"
   ]
  }
 ],
 "metadata": {
  "kernelspec": {
   "display_name": "Python 3",
   "language": "python",
   "name": "python3"
  },
  "language_info": {
   "codemirror_mode": {
    "name": "ipython",
    "version": 3
   },
   "file_extension": ".py",
   "mimetype": "text/x-python",
   "name": "python",
   "nbconvert_exporter": "python",
   "pygments_lexer": "ipython3",
   "version": "3.6.5"
  }
 },
 "nbformat": 4,
 "nbformat_minor": 2
}
