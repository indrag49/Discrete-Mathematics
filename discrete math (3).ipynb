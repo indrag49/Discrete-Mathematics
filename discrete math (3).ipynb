{
 "cells": [
  {
   "cell_type": "code",
   "execution_count": 3,
   "metadata": {},
   "outputs": [],
   "source": [
    "import random\n",
    "from sympy import *\n",
    "import numpy as np"
   ]
  },
  {
   "cell_type": "markdown",
   "metadata": {},
   "source": [
    "### Chapter 5"
   ]
  },
  {
   "cell_type": "markdown",
   "metadata": {},
   "source": [
    "#### Prufer's Algorithm"
   ]
  },
  {
   "cell_type": "code",
   "execution_count": 3,
   "metadata": {},
   "outputs": [
    {
     "data": {
      "text/plain": [
       "[2, 2, 5, 5, 5]"
      ]
     },
     "execution_count": 3,
     "metadata": {},
     "output_type": "execute_result"
    }
   ],
   "source": [
    "#T=[[6, 2], [6, 7], [5, 6], [3, 5], [5, 1], [1, 4]]\n",
    "#V=[2, 6, 7, 3, 5, 1, 4]\n",
    "\n",
    "## Ex 5.1, 31\n",
    "T=[[1, 2], [2, 3], [5, 2], [5, 4], [6, 5], [7, 5]]\n",
    "V=[1, 2, 3, 4, 5, 6, 7]\n",
    "\n",
    "def PrA(T, V):\n",
    "    a=[]\n",
    "    while len(T)!=1:\n",
    "        L=[i for i in V if (flatten(T)).count(i)==1]\n",
    "        v1=min(L)\n",
    "        for i in T:\n",
    "            if v1 in i: \n",
    "                e=i\n",
    "                break\n",
    "    \n",
    "        ak=e[1] if e[0]==v1 else e[0]\n",
    "        del V[V.index(v1)]\n",
    "        a+=[ak, ]\n",
    "        del T[T.index(e)]\n",
    "    return a\n",
    "    return a\n",
    "\n",
    "PrA(T, V)"
   ]
  },
  {
   "cell_type": "markdown",
   "metadata": {},
   "source": [
    "#### Prim's Algorithm"
   ]
  },
  {
   "cell_type": "code",
   "execution_count": 70,
   "metadata": {},
   "outputs": [
    {
     "data": {
      "text/plain": [
       "([['G', 'C'],\n",
       "  ['J', 'G'],\n",
       "  ['G', 'F'],\n",
       "  ['A', 'F'],\n",
       "  ['A', 'E'],\n",
       "  ['I', 'J'],\n",
       "  ['D', 'C'],\n",
       "  ['H', 'D'],\n",
       "  ['A', 'B']],\n",
       " 21)"
      ]
     },
     "execution_count": 70,
     "metadata": {},
     "output_type": "execute_result"
    }
   ],
   "source": [
    "#Ed=[['A', 'B', 4], ['E', 'A', 3], ['B', 'E', 5], ['E', 'D', 2], ['E', 'C', 3], ['C', 'B', 5], ['C', 'D', 3]]\n",
    "\n",
    "#Ed=[['A', 'B', 9], ['D', 'B', 11], ['D','A', 3], ['B', 'F', 8], ['F', 'D', 9], ['F', 'C', 5], ['C', 'B', 8], ['E', 'F', 6], ['C', 'E', 3], ['E', 'D', 11]]\n",
    "\n",
    "## Ex 5.2, 19\n",
    "#Ed=[['C', 'B', 4], ['A', 'C', 3], ['C', 'D', 5], ['B', 'A', 6], ['A', 'D', 4], ['D', 'E', 2], ['H', 'E', 2], ['E', 'F', 4], ['F', 'I', 3], ['I', 'H', 3], ['I', 'G', 2], ['G', 'H', 4], ['G', 'E', 1]]\n",
    "\n",
    "## Ex 5.2, 18\n",
    "Ed=[['A', 'B', 4], ['A', 'E', 3], ['E', 'F', 6], ['F', 'B', 5], ['F', 'I', 4], ['I', 'J', 3], ['J', 'G', 1], ['G', 'F', 1], ['A', 'F', 2],['I', 'G', 5], ['G', 'C', 2], ['G', 'H', 4], ['H', 'D', 2], ['D', 'C', 3]]\n",
    "\n",
    "def PA(Ed, st):\n",
    "    \"\"\"Ed is the list of edges with weights and st is the starting vertex\"\"\"\n",
    "    E1=[]\n",
    "    E2=[]\n",
    "    for i in Ed:\n",
    "        E1+=[[i[0], i[1]], ]\n",
    "        E2+=[i[2], ]\n",
    "\n",
    "    X=flatten(E1)\n",
    "    V=list(set(X))\n",
    "    n=len(V)\n",
    "\n",
    "    E3=E1[:]\n",
    "    L=[st]\n",
    "    T=[]\n",
    "    w=0\n",
    "\n",
    "    while True:\n",
    "        I=[]\n",
    "        temp=[]\n",
    "        s=0\n",
    "        for i in E1:\n",
    "            if (i[0] in L and i[1] not in L) or (i[1] in L and i[0] not in L):\n",
    "                I+=[E1.index(i),]\n",
    "                temp+=[i,]\n",
    "\n",
    "        M=[E2[i] for i in I]\n",
    "        Min=min(M) # Max=max(M) for maximal spanning tree\n",
    "        te=temp[M.index(Min)]\n",
    "        T+=[te,]\n",
    "        del E3[E3.index(te)]\n",
    "        x, y=te[0], te[1]\n",
    "        L+=[x if y in L else y, ]\n",
    "    \n",
    "        for i in E3:\n",
    "            if (i[0] in L and i[1] not in L) or (i[1] in L and i[0] not in L):s+=1\n",
    "    \n",
    "        if s==0: break\n",
    "\n",
    "    for i in T: w+=E2[E1.index(i)]\n",
    "        \n",
    "    return T, w if len(L)==n else \"No minimal spanning tree\"\n",
    "\n",
    "PA(Ed, 'C')"
   ]
  },
  {
   "cell_type": "markdown",
   "metadata": {},
   "source": [
    "#### Kruskal's Algorithm"
   ]
  },
  {
   "cell_type": "code",
   "execution_count": 26,
   "metadata": {},
   "outputs": [
    {
     "data": {
      "text/plain": [
       "([['J', 'G'],\n",
       "  ['G', 'F'],\n",
       "  ['A', 'F'],\n",
       "  ['G', 'C'],\n",
       "  ['H', 'D'],\n",
       "  ['A', 'E'],\n",
       "  ['I', 'J'],\n",
       "  ['D', 'C'],\n",
       "  ['A', 'B']],\n",
       " 21)"
      ]
     },
     "execution_count": 26,
     "metadata": {},
     "output_type": "execute_result"
    }
   ],
   "source": [
    "#Ed=[['A', 'B', 4], ['E', 'A', 3], ['B', 'E', 5], ['E', 'D', 2], ['E', 'C', 3], ['C', 'B', 5], ['C', 'D', 3]]\n",
    "\n",
    "#Ed=[['C', 'B', 4], ['A', 'C', 3], ['C', 'D', 5], ['B', 'A', 6], ['A', 'D', 4], ['D', 'E', 2], ['H', 'E', 2], ['E', 'F', 4], ['F', 'I', 3], ['I', 'H', 3], ['I', 'G', 2], ['G', 'H', 4], ['G', 'E', 1]]\n",
    "\n",
    "Ed=[['A', 'B', 4], ['A', 'E', 3], ['E', 'F', 6], ['F', 'B', 5], ['F', 'I', 4], ['I', 'J', 3], ['J', 'G', 1], ['G', 'F', 1], ['A', 'F', 2],['I', 'G', 5], ['G', 'C', 2], ['G', 'H', 4], ['H', 'D', 2], ['D', 'C', 3]]\n",
    "\n",
    "def Kr_A(Ed):\n",
    "    E1=[]\n",
    "    E2=[]\n",
    "\n",
    "    for i in Ed:\n",
    "        E1+=[[i[0], i[1]], ]\n",
    "        E2+=[i[2], ]\n",
    "\n",
    "    X=flatten(E1)\n",
    "    V=list(set(X))\n",
    "    n=len(V)\n",
    "    E3=E1[:]\n",
    "    E4=E2[:]\n",
    "    w=0\n",
    "    M=min(E2)\n",
    "    e=E1[E2.index(M)]\n",
    "    cl=[e]\n",
    "    T=[e, ]\n",
    "    ind=E3.index(e)\n",
    "    del E3[ind]\n",
    "    del E4[ind]\n",
    "\n",
    "    while len(T)<n-1 and len(E3)!=0:\n",
    "        M=min(E4)\n",
    "        e=E3[E4.index(M)]\n",
    "\n",
    "        for i in cl:\n",
    "            if e[0] in i and e[1] not in i:\n",
    "                ind=cl.index(i)\n",
    "                cl1=cl[:ind]+cl[ind+1:]\n",
    "                s=0\n",
    "    \n",
    "                for j in cl1:\n",
    "                    if e[1] in j:\n",
    "                        ind1=cl1.index(j)\n",
    "                        cl[ind]=cl[ind]+cl1[ind1]\n",
    "                        J=j\n",
    "                        T+=[e,]\n",
    "                        break\n",
    "                    else:\n",
    "                        s+=1\n",
    "                if s==len(cl1):\n",
    "                    cl[ind]=cl[ind]+[e[1]]\n",
    "                    T+=[e, ]\n",
    "                    J=0\n",
    "                break\n",
    "            \n",
    "            elif e[1] in i and e[0] not in i:\n",
    "                ind=cl.index(i)\n",
    "                cl1=cl[:ind]+cl[ind+1:]\n",
    "                s=0\n",
    "            \n",
    "                for j in cl1:\n",
    "                    if e[0] in j:\n",
    "                        ind1=cl1.index(j)\n",
    "                        cl[ind]=cl[ind]+cl1[ind1]\n",
    "                        J=j\n",
    "                        T+=[e,]\n",
    "                        break\n",
    "                    else:\n",
    "                        s+=1\n",
    "\n",
    "                if s==len(cl1):\n",
    "                    cl[ind]=cl[ind]+[e[0]]\n",
    "                    T+=[e, ]\n",
    "                    J=0\n",
    "                break\n",
    "            elif e[0] not in i and e[1] not in i:\n",
    "                cl+=[e,]\n",
    "                T+=[e,]\n",
    "                J=0\n",
    "                break\n",
    "            else:\n",
    "                J=0\n",
    "                break\n",
    "            \n",
    "        ind=E3.index(e)\n",
    "        del E3[ind]\n",
    "        del E4[ind]\n",
    "        if J!=0: del cl[cl.index(j)]    \n",
    "    \n",
    "    for i in T: w+=E2[E1.index(i)]   \n",
    "    \n",
    "    return T, w\n",
    "Kr_A(Ed)"
   ]
  },
  {
   "cell_type": "markdown",
   "metadata": {},
   "source": [
    "#### Depth-First Search Algoritm"
   ]
  },
  {
   "cell_type": "code",
   "execution_count": 48,
   "metadata": {},
   "outputs": [
    {
     "data": {
      "text/plain": [
       "({'A': [1, '-'],\n",
       "  'B': [2, 'A'],\n",
       "  'F': [3, 'B'],\n",
       "  'C': [4, 'F'],\n",
       "  'D': [5, 'C'],\n",
       "  'E': [6, 'C'],\n",
       "  'G': [7, 'C'],\n",
       "  'H': [8, 'F'],\n",
       "  'I': [9, 'H'],\n",
       "  'J': [10, 'H']},\n",
       " [['A', 'B'],\n",
       "  ['F', 'B'],\n",
       "  ['F', 'C'],\n",
       "  ['C', 'D'],\n",
       "  ['C', 'E'],\n",
       "  ['C', 'G'],\n",
       "  ['F', 'H'],\n",
       "  ['H', 'I'],\n",
       "  ['J', 'H']])"
      ]
     },
     "execution_count": 48,
     "metadata": {},
     "output_type": "execute_result"
    }
   ],
   "source": [
    "Ed=[['A', 'B'], ['G', 'A'], ['G', 'F'], ['F', 'B'], ['F', 'C'], ['C', 'G'], ['C', 'D'], ['C', 'E'], ['F', 'H'], ['H', 'B'], ['B', 'J'], ['J', 'H'], ['H', 'I'], ['I', 'F']]\n",
    "\n",
    "#Ed=[['A', 'C'], ['C', 'G'], ['G', 'H'], ['H', 'A'], ['G', 'F'], ['F', 'C'], ['H', 'F'], ['F', 'B'], ['B', 'D'], ['D', 'E'], ['E', 'F'], ['E', 'B']]\n",
    "\n",
    "#Ed=[['A', 'B'], ['B', 'E'], ['E', 'A'], ['E', 'C'], ['C', 'D'], ['B', 'F'], ['F', 'G'], ['E', 'G'], ['D', 'H'], ['H', 'C'], ['C', 'I'], ['I', 'J'], ['J', 'D']]\n",
    "st='A'\n",
    "\n",
    "def DFA(Ed, st):\n",
    "    V=list(set(flatten(Ed)))\n",
    "    L={'A':[1, '-']}\n",
    "    T=[]\n",
    "    k=2\n",
    "    while len(L)!=len(V):\n",
    "        temp=[]\n",
    "        t=[]\n",
    "        for i in Ed:\n",
    "            if st in i: temp+=[i,]\n",
    "        for i in temp: \n",
    "            if i[0]==st and i[1] not in L: t+=[i[1], ]\n",
    "            elif i[1]==st and i[0] not in L: t+=[i[0], ]\n",
    "    \n",
    "        if len(t)!=0:\n",
    "            v=min(t)\n",
    "            e=[v, st] if [v, st] in temp else [st, v]\n",
    "\n",
    "            L[v]=[k, st]\n",
    "            T+=[e, ]\n",
    "            del Ed[Ed.index(e)]\n",
    "            st=v\n",
    "            k+=1\n",
    "        else:\n",
    "            st=L[st][1]\n",
    "            if st=='A': break\n",
    "\n",
    "    return L, T if len(L)==len(V) else \"No spanning tree\"\n",
    "    \n",
    "DFA(Ed, st)    "
   ]
  },
  {
   "cell_type": "code",
   "execution_count": 49,
   "metadata": {},
   "outputs": [
    {
     "data": {
      "text/plain": [
       "({'A': [1, '-'], 'B': [2, 'A'], 'D': [3, 'B']}, 'No spanning tree')"
      ]
     },
     "execution_count": 49,
     "metadata": {},
     "output_type": "execute_result"
    }
   ],
   "source": [
    "#Ed=[['A', 'B'], ['A', 'C'], ['A', 'D'], ['D', 'C'], ['C', 'B']]\n",
    "Ed=[['A', 'B'], ['B', 'D'], ['D', 'A'], ['C', 'F'], ['F', 'E']] # ['B', 'E'] is a bridge\n",
    "st='A'\n",
    "DFA(Ed, st)\n"
   ]
  },
  {
   "cell_type": "markdown",
   "metadata": {},
   "source": [
    "#### Preorder Traversal "
   ]
  },
  {
   "cell_type": "code",
   "execution_count": 72,
   "metadata": {},
   "outputs": [
    {
     "name": "stdout",
     "output_type": "stream",
     "text": [
      "{'A': [1, '-'], 'B': [2, 'A'], 'D': [3, 'B'], 'G': [4, 'D'], 'L': [5, 'G'], 'E': [6, 'B'], 'H': [7, 'E'], 'M': [8, 'H'], 'I': [9, 'E'], 'N': [10, 'I'], 'C': [11, 'A'], 'F': [12, 'C'], 'J': [13, 'F'], 'O': [14, 'J'], 'P': [15, 'J'], 'K': [16, 'F'], 'Q': [17, 'K']}\n"
     ]
    },
    {
     "data": {
      "text/plain": [
       "{1: 'A',\n",
       " 2: 'B',\n",
       " 3: 'D',\n",
       " 4: 'G',\n",
       " 5: 'L',\n",
       " 6: 'E',\n",
       " 7: 'H',\n",
       " 8: 'M',\n",
       " 9: 'I',\n",
       " 10: 'N',\n",
       " 11: 'C',\n",
       " 12: 'F',\n",
       " 13: 'J',\n",
       " 14: 'O',\n",
       " 15: 'P',\n",
       " 16: 'K',\n",
       " 17: 'Q'}"
      ]
     },
     "execution_count": 72,
     "metadata": {},
     "output_type": "execute_result"
    }
   ],
   "source": [
    "#Ed=[['A', 'B', 'l'], ['A', 'C', 'r'], ['B', 'E', 'r'], ['B', 'D', 'l'], ['D', 'F', 'r'], ['E', 'G', 'l']] \n",
    "\n",
    "#Ex 5.5, 17\n",
    "Ed=[['A', 'B', 'l'], ['A', 'C', 'r'], ['B', 'D', 'l'], ['B', 'E', 'r'], ['D', 'G', 'l'], ['G', 'L', 'l'], ['E', 'I', 'r'], ['E', 'H', 'l'], ['H', 'M', 'l'], ['I', 'N', 'l'], ['C', 'F', 'r'], ['F', 'K', 'r'], ['F', 'J', 'l'], ['K', 'Q', 'r'], ['J', 'O', 'l'], ['J', 'P', 'r']]\n",
    "##'r' means right child, 'l' means left child and ['A', 'B', 'l'] means 'A' is the parent and 'B' is the left child of 'A'\n",
    "\n",
    "def Preo_trav(Ed):\n",
    "    E1=[]\n",
    "    E2=[]\n",
    "    for i in Ed:\n",
    "        E1+=[i[:2], ]\n",
    "        E2+=[i[2], ]\n",
    "\n",
    "    V=list(set(flatten(E1)))\n",
    "\n",
    "    # we need to determine the root, i.e, the node which has indegree=0\n",
    "    In=0\n",
    "    root=''\n",
    "    for v in V:\n",
    "        for i in E1:\n",
    "            if i[1]==v:In+=1\n",
    "        if In==0:\n",
    "            root=v\n",
    "            break \n",
    "        else: In=0\n",
    "\n",
    "    st=root\n",
    "    L={st:[1, '-']}\n",
    "    k=2\n",
    "\n",
    "    while len(L)!=len(V):\n",
    "        t1=[]\n",
    "        t2=[]\n",
    "        for i in E1:\n",
    "            if i[0]==st and i[1] not in L:\n",
    "                t1+=[i, ]\n",
    "                t2+=[E2[E1.index(i)], ]    \n",
    "    \n",
    "        if len(t1)==2:\n",
    "            ind=t2.index('l')\n",
    "            e=t1[ind]\n",
    "            L[e[1]]=[k, e[0]]\n",
    "            st=e[1]\n",
    "            k+=1\n",
    "            ind1=E1.index(e)\n",
    "            del E1[ind1]\n",
    "            del E2[ind1]\n",
    "        \n",
    "        elif len(t2)==1:\n",
    "            e=t1[0]\n",
    "            L[e[1]]=[k, e[0]]\n",
    "            st=e[1]\n",
    "            k+=1\n",
    "            ind1=E1.index(e)\n",
    "            del E1[ind1]\n",
    "            del E2[ind1]\n",
    "    \n",
    "        else: st=L[st][1]\n",
    "\n",
    "    l={}\n",
    "    print(L)\n",
    "    for i in L: l[L[i][0]]=i\n",
    "    return l\n",
    "\n",
    "Preo_trav(Ed)\n",
    "    "
   ]
  }
 ],
 "metadata": {
  "kernelspec": {
   "display_name": "Python 3",
   "language": "python",
   "name": "python3"
  },
  "language_info": {
   "codemirror_mode": {
    "name": "ipython",
    "version": 3
   },
   "file_extension": ".py",
   "mimetype": "text/x-python",
   "name": "python",
   "nbconvert_exporter": "python",
   "pygments_lexer": "ipython3",
   "version": "3.6.5"
  }
 },
 "nbformat": 4,
 "nbformat_minor": 2
}
