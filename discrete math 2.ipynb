{
 "cells": [
  {
   "cell_type": "code",
   "execution_count": 1,
   "metadata": {},
   "outputs": [],
   "source": [
    "import random\n",
    "from sympy import *\n",
    "import numpy as np"
   ]
  },
  {
   "cell_type": "markdown",
   "metadata": {},
   "source": [
    "### Chapter 5"
   ]
  },
  {
   "cell_type": "markdown",
   "metadata": {},
   "source": [
    "#### Prufer's Algorithm"
   ]
  },
  {
   "cell_type": "code",
   "execution_count": 3,
   "metadata": {},
   "outputs": [
    {
     "data": {
      "text/plain": [
       "[2, 2, 5, 5, 5]"
      ]
     },
     "execution_count": 3,
     "metadata": {},
     "output_type": "execute_result"
    }
   ],
   "source": [
    "#T=[[6, 2], [6, 7], [5, 6], [3, 5], [5, 1], [1, 4]]\n",
    "#V=[2, 6, 7, 3, 5, 1, 4]\n",
    "\n",
    "## Ex 5.1, 31\n",
    "T=[[1, 2], [2, 3], [5, 2], [5, 4], [6, 5], [7, 5]]\n",
    "V=[1, 2, 3, 4, 5, 6, 7]\n",
    "\n",
    "def PrA(T, V):\n",
    "    a=[]\n",
    "    while len(T)!=1:\n",
    "        L=[i for i in V if (flatten(T)).count(i)==1]\n",
    "        v1=min(L)\n",
    "        for i in T:\n",
    "            if v1 in i: \n",
    "                e=i\n",
    "                break\n",
    "    \n",
    "        ak=e[1] if e[0]==v1 else e[0]\n",
    "        del V[V.index(v1)]\n",
    "        a+=[ak, ]\n",
    "        del T[T.index(e)]\n",
    "    return a\n",
    "    return a\n",
    "\n",
    "PrA(T, V)"
   ]
  },
  {
   "cell_type": "markdown",
   "metadata": {},
   "source": [
    "#### Prim's Algorithm"
   ]
  },
  {
   "cell_type": "code",
   "execution_count": 70,
   "metadata": {},
   "outputs": [
    {
     "data": {
      "text/plain": [
       "([['G', 'C'],\n",
       "  ['J', 'G'],\n",
       "  ['G', 'F'],\n",
       "  ['A', 'F'],\n",
       "  ['A', 'E'],\n",
       "  ['I', 'J'],\n",
       "  ['D', 'C'],\n",
       "  ['H', 'D'],\n",
       "  ['A', 'B']],\n",
       " 21)"
      ]
     },
     "execution_count": 70,
     "metadata": {},
     "output_type": "execute_result"
    }
   ],
   "source": [
    "#Ed=[['A', 'B', 4], ['E', 'A', 3], ['B', 'E', 5], ['E', 'D', 2], ['E', 'C', 3], ['C', 'B', 5], ['C', 'D', 3]]\n",
    "\n",
    "#Ed=[['A', 'B', 9], ['D', 'B', 11], ['D','A', 3], ['B', 'F', 8], ['F', 'D', 9], ['F', 'C', 5], ['C', 'B', 8], ['E', 'F', 6], ['C', 'E', 3], ['E', 'D', 11]]\n",
    "\n",
    "## Ex 5.2, 19\n",
    "#Ed=[['C', 'B', 4], ['A', 'C', 3], ['C', 'D', 5], ['B', 'A', 6], ['A', 'D', 4], ['D', 'E', 2], ['H', 'E', 2], ['E', 'F', 4], ['F', 'I', 3], ['I', 'H', 3], ['I', 'G', 2], ['G', 'H', 4], ['G', 'E', 1]]\n",
    "\n",
    "## Ex 5.2, 18\n",
    "Ed=[['A', 'B', 4], ['A', 'E', 3], ['E', 'F', 6], ['F', 'B', 5], ['F', 'I', 4], ['I', 'J', 3], ['J', 'G', 1], ['G', 'F', 1], ['A', 'F', 2],['I', 'G', 5], ['G', 'C', 2], ['G', 'H', 4], ['H', 'D', 2], ['D', 'C', 3]]\n",
    "\n",
    "def PA(Ed, st):\n",
    "    \"\"\"Ed is the list of edges with weights and st is the starting vertex\"\"\"\n",
    "    E1=[]\n",
    "    E2=[]\n",
    "    for i in Ed:\n",
    "        E1+=[[i[0], i[1]], ]\n",
    "        E2+=[i[2], ]\n",
    "\n",
    "    X=flatten(E1)\n",
    "    V=list(set(X))\n",
    "    n=len(V)\n",
    "\n",
    "    E3=E1[:]\n",
    "    L=[st]\n",
    "    T=[]\n",
    "    w=0\n",
    "\n",
    "    while True:\n",
    "        I=[]\n",
    "        temp=[]\n",
    "        s=0\n",
    "        for i in E1:\n",
    "            if (i[0] in L and i[1] not in L) or (i[1] in L and i[0] not in L):\n",
    "                I+=[E1.index(i),]\n",
    "                temp+=[i,]\n",
    "\n",
    "        M=[E2[i] for i in I]\n",
    "        Min=min(M) # Max=max(M) for maximal spanning tree\n",
    "        te=temp[M.index(Min)]\n",
    "        T+=[te,]\n",
    "        del E3[E3.index(te)]\n",
    "        x, y=te[0], te[1]\n",
    "        L+=[x if y in L else y, ]\n",
    "    \n",
    "        for i in E3:\n",
    "            if (i[0] in L and i[1] not in L) or (i[1] in L and i[0] not in L):s+=1\n",
    "    \n",
    "        if s==0: break\n",
    "\n",
    "    for i in T: w+=E2[E1.index(i)]\n",
    "        \n",
    "    return T, w if len(L)==n else \"No minimal spanning tree\"\n",
    "\n",
    "PA(Ed, 'C')"
   ]
  },
  {
   "cell_type": "markdown",
   "metadata": {},
   "source": [
    "#### Kruskal's Algorithm"
   ]
  },
  {
   "cell_type": "code",
   "execution_count": 26,
   "metadata": {},
   "outputs": [
    {
     "data": {
      "text/plain": [
       "([['J', 'G'],\n",
       "  ['G', 'F'],\n",
       "  ['A', 'F'],\n",
       "  ['G', 'C'],\n",
       "  ['H', 'D'],\n",
       "  ['A', 'E'],\n",
       "  ['I', 'J'],\n",
       "  ['D', 'C'],\n",
       "  ['A', 'B']],\n",
       " 21)"
      ]
     },
     "execution_count": 26,
     "metadata": {},
     "output_type": "execute_result"
    }
   ],
   "source": [
    "#Ed=[['A', 'B', 4], ['E', 'A', 3], ['B', 'E', 5], ['E', 'D', 2], ['E', 'C', 3], ['C', 'B', 5], ['C', 'D', 3]]\n",
    "\n",
    "#Ed=[['C', 'B', 4], ['A', 'C', 3], ['C', 'D', 5], ['B', 'A', 6], ['A', 'D', 4], ['D', 'E', 2], ['H', 'E', 2], ['E', 'F', 4], ['F', 'I', 3], ['I', 'H', 3], ['I', 'G', 2], ['G', 'H', 4], ['G', 'E', 1]]\n",
    "\n",
    "Ed=[['A', 'B', 4], ['A', 'E', 3], ['E', 'F', 6], ['F', 'B', 5], ['F', 'I', 4], ['I', 'J', 3], ['J', 'G', 1], ['G', 'F', 1], ['A', 'F', 2],['I', 'G', 5], ['G', 'C', 2], ['G', 'H', 4], ['H', 'D', 2], ['D', 'C', 3]]\n",
    "\n",
    "def Kr_A(Ed):\n",
    "    E1=[]\n",
    "    E2=[]\n",
    "\n",
    "    for i in Ed:\n",
    "        E1+=[[i[0], i[1]], ]\n",
    "        E2+=[i[2], ]\n",
    "\n",
    "    X=flatten(E1)\n",
    "    V=list(set(X))\n",
    "    n=len(V)\n",
    "    E3=E1[:]\n",
    "    E4=E2[:]\n",
    "    w=0\n",
    "    M=min(E2)\n",
    "    e=E1[E2.index(M)]\n",
    "    cl=[e]\n",
    "    T=[e, ]\n",
    "    ind=E3.index(e)\n",
    "    del E3[ind]\n",
    "    del E4[ind]\n",
    "\n",
    "    while len(T)<n-1 and len(E3)!=0:\n",
    "        M=min(E4)\n",
    "        e=E3[E4.index(M)]\n",
    "\n",
    "        for i in cl:\n",
    "            if e[0] in i and e[1] not in i:\n",
    "                ind=cl.index(i)\n",
    "                cl1=cl[:ind]+cl[ind+1:]\n",
    "                s=0\n",
    "    \n",
    "                for j in cl1:\n",
    "                    if e[1] in j:\n",
    "                        ind1=cl1.index(j)\n",
    "                        cl[ind]=cl[ind]+cl1[ind1]\n",
    "                        J=j\n",
    "                        T+=[e,]\n",
    "                        break\n",
    "                    else:\n",
    "                        s+=1\n",
    "                if s==len(cl1):\n",
    "                    cl[ind]=cl[ind]+[e[1]]\n",
    "                    T+=[e, ]\n",
    "                    J=0\n",
    "                break\n",
    "            \n",
    "            elif e[1] in i and e[0] not in i:\n",
    "                ind=cl.index(i)\n",
    "                cl1=cl[:ind]+cl[ind+1:]\n",
    "                s=0\n",
    "            \n",
    "                for j in cl1:\n",
    "                    if e[0] in j:\n",
    "                        ind1=cl1.index(j)\n",
    "                        cl[ind]=cl[ind]+cl1[ind1]\n",
    "                        J=j\n",
    "                        T+=[e,]\n",
    "                        break\n",
    "                    else:\n",
    "                        s+=1\n",
    "\n",
    "                if s==len(cl1):\n",
    "                    cl[ind]=cl[ind]+[e[0]]\n",
    "                    T+=[e, ]\n",
    "                    J=0\n",
    "                break\n",
    "            elif e[0] not in i and e[1] not in i:\n",
    "                cl+=[e,]\n",
    "                T+=[e,]\n",
    "                J=0\n",
    "                break\n",
    "            else:\n",
    "                J=0\n",
    "                break\n",
    "            \n",
    "        ind=E3.index(e)\n",
    "        del E3[ind]\n",
    "        del E4[ind]\n",
    "        if J!=0: del cl[cl.index(j)]    \n",
    "    \n",
    "    for i in T: w+=E2[E1.index(i)]   \n",
    "    \n",
    "    return T, w\n",
    "Kr_A(Ed)"
   ]
  },
  {
   "cell_type": "markdown",
   "metadata": {},
   "source": [
    "#### Depth-First Search Algoritm"
   ]
  },
  {
   "cell_type": "code",
   "execution_count": 48,
   "metadata": {},
   "outputs": [
    {
     "data": {
      "text/plain": [
       "({'A': [1, '-'],\n",
       "  'B': [2, 'A'],\n",
       "  'F': [3, 'B'],\n",
       "  'C': [4, 'F'],\n",
       "  'D': [5, 'C'],\n",
       "  'E': [6, 'C'],\n",
       "  'G': [7, 'C'],\n",
       "  'H': [8, 'F'],\n",
       "  'I': [9, 'H'],\n",
       "  'J': [10, 'H']},\n",
       " [['A', 'B'],\n",
       "  ['F', 'B'],\n",
       "  ['F', 'C'],\n",
       "  ['C', 'D'],\n",
       "  ['C', 'E'],\n",
       "  ['C', 'G'],\n",
       "  ['F', 'H'],\n",
       "  ['H', 'I'],\n",
       "  ['J', 'H']])"
      ]
     },
     "execution_count": 48,
     "metadata": {},
     "output_type": "execute_result"
    }
   ],
   "source": [
    "Ed=[['A', 'B'], ['G', 'A'], ['G', 'F'], ['F', 'B'], ['F', 'C'], ['C', 'G'], ['C', 'D'], ['C', 'E'], ['F', 'H'], ['H', 'B'], ['B', 'J'], ['J', 'H'], ['H', 'I'], ['I', 'F']]\n",
    "\n",
    "#Ed=[['A', 'C'], ['C', 'G'], ['G', 'H'], ['H', 'A'], ['G', 'F'], ['F', 'C'], ['H', 'F'], ['F', 'B'], ['B', 'D'], ['D', 'E'], ['E', 'F'], ['E', 'B']]\n",
    "\n",
    "#Ed=[['A', 'B'], ['B', 'E'], ['E', 'A'], ['E', 'C'], ['C', 'D'], ['B', 'F'], ['F', 'G'], ['E', 'G'], ['D', 'H'], ['H', 'C'], ['C', 'I'], ['I', 'J'], ['J', 'D']]\n",
    "st='A'\n",
    "\n",
    "def DFA(Ed, st):\n",
    "    V=list(set(flatten(Ed)))\n",
    "    L={'A':[1, '-']}\n",
    "    T=[]\n",
    "    k=2\n",
    "    while len(L)!=len(V):\n",
    "        temp=[]\n",
    "        t=[]\n",
    "        for i in Ed:\n",
    "            if st in i: temp+=[i,]\n",
    "        for i in temp: \n",
    "            if i[0]==st and i[1] not in L: t+=[i[1], ]\n",
    "            elif i[1]==st and i[0] not in L: t+=[i[0], ]\n",
    "    \n",
    "        if len(t)!=0:\n",
    "            v=min(t)\n",
    "            e=[v, st] if [v, st] in temp else [st, v]\n",
    "\n",
    "            L[v]=[k, st]\n",
    "            T+=[e, ]\n",
    "            del Ed[Ed.index(e)]\n",
    "            st=v\n",
    "            k+=1\n",
    "        else:\n",
    "            st=L[st][1]\n",
    "            if st=='A': break\n",
    "\n",
    "    return L, T if len(L)==len(V) else \"No spanning tree\"\n",
    "    \n",
    "DFA(Ed, st)    "
   ]
  },
  {
   "cell_type": "code",
   "execution_count": 49,
   "metadata": {},
   "outputs": [
    {
     "data": {
      "text/plain": [
       "({'A': [1, '-'], 'B': [2, 'A'], 'D': [3, 'B']}, 'No spanning tree')"
      ]
     },
     "execution_count": 49,
     "metadata": {},
     "output_type": "execute_result"
    }
   ],
   "source": [
    "#Ed=[['A', 'B'], ['A', 'C'], ['A', 'D'], ['D', 'C'], ['C', 'B']]\n",
    "Ed=[['A', 'B'], ['B', 'D'], ['D', 'A'], ['C', 'F'], ['F', 'E']] # ['B', 'E'] is a bridge\n",
    "st='A'\n",
    "DFA(Ed, st)\n"
   ]
  },
  {
   "cell_type": "markdown",
   "metadata": {},
   "source": [
    "#### Preorder Traversal Algorithm"
   ]
  },
  {
   "cell_type": "code",
   "execution_count": 72,
   "metadata": {},
   "outputs": [
    {
     "name": "stdout",
     "output_type": "stream",
     "text": [
      "{'A': [1, '-'], 'B': [2, 'A'], 'D': [3, 'B'], 'G': [4, 'D'], 'L': [5, 'G'], 'E': [6, 'B'], 'H': [7, 'E'], 'M': [8, 'H'], 'I': [9, 'E'], 'N': [10, 'I'], 'C': [11, 'A'], 'F': [12, 'C'], 'J': [13, 'F'], 'O': [14, 'J'], 'P': [15, 'J'], 'K': [16, 'F'], 'Q': [17, 'K']}\n"
     ]
    },
    {
     "data": {
      "text/plain": [
       "{1: 'A',\n",
       " 2: 'B',\n",
       " 3: 'D',\n",
       " 4: 'G',\n",
       " 5: 'L',\n",
       " 6: 'E',\n",
       " 7: 'H',\n",
       " 8: 'M',\n",
       " 9: 'I',\n",
       " 10: 'N',\n",
       " 11: 'C',\n",
       " 12: 'F',\n",
       " 13: 'J',\n",
       " 14: 'O',\n",
       " 15: 'P',\n",
       " 16: 'K',\n",
       " 17: 'Q'}"
      ]
     },
     "execution_count": 72,
     "metadata": {},
     "output_type": "execute_result"
    }
   ],
   "source": [
    "#Ed=[['A', 'B', 'l'], ['A', 'C', 'r'], ['B', 'E', 'r'], ['B', 'D', 'l'], ['D', 'F', 'r'], ['E', 'G', 'l']] \n",
    "\n",
    "#Ex 5.5, 17\n",
    "Ed=[['A', 'B', 'l'], ['A', 'C', 'r'], ['B', 'D', 'l'], ['B', 'E', 'r'], ['D', 'G', 'l'], ['G', 'L', 'l'], ['E', 'I', 'r'], ['E', 'H', 'l'], ['H', 'M', 'l'], ['I', 'N', 'l'], ['C', 'F', 'r'], ['F', 'K', 'r'], ['F', 'J', 'l'], ['K', 'Q', 'r'], ['J', 'O', 'l'], ['J', 'P', 'r']]\n",
    "##'r' means right child, 'l' means left child and ['A', 'B', 'l'] means 'A' is the parent and 'B' is the left child of 'A'\n",
    "\n",
    "def Preo_trav(Ed):\n",
    "    E1=[]\n",
    "    E2=[]\n",
    "    for i in Ed:\n",
    "        E1+=[i[:2], ]\n",
    "        E2+=[i[2], ]\n",
    "\n",
    "    V=list(set(flatten(E1)))\n",
    "\n",
    "    # we need to determine the root, i.e, the node which has indegree=0\n",
    "    In=0\n",
    "    root=''\n",
    "    for v in V:\n",
    "        for i in E1:\n",
    "            if i[1]==v:In+=1\n",
    "        if In==0:\n",
    "            root=v\n",
    "            break \n",
    "        else: In=0\n",
    "\n",
    "    st=root\n",
    "    L={st:[1, '-']}\n",
    "    k=2\n",
    "\n",
    "    while len(L)!=len(V):\n",
    "        t1=[]\n",
    "        t2=[]\n",
    "        for i in E1:\n",
    "            if i[0]==st and i[1] not in L:\n",
    "                t1+=[i, ]\n",
    "                t2+=[E2[E1.index(i)], ]    \n",
    "    \n",
    "        if len(t1)==2:\n",
    "            ind=t2.index('l')\n",
    "            e=t1[ind]\n",
    "            L[e[1]]=[k, e[0]]\n",
    "            st=e[1]\n",
    "            k+=1\n",
    "            ind1=E1.index(e)\n",
    "            del E1[ind1]\n",
    "            del E2[ind1]\n",
    "        \n",
    "        elif len(t2)==1:\n",
    "            e=t1[0]\n",
    "            L[e[1]]=[k, e[0]]\n",
    "            st=e[1]\n",
    "            k+=1\n",
    "            ind1=E1.index(e)\n",
    "            del E1[ind1]\n",
    "            del E2[ind1]\n",
    "    \n",
    "        else: st=L[st][1]\n",
    "\n",
    "    l={}\n",
    "    print(L)\n",
    "    for i in L: l[L[i][0]]=i\n",
    "    return l\n",
    "\n",
    "Preo_trav(Ed)\n",
    "    "
   ]
  },
  {
   "cell_type": "markdown",
   "metadata": {},
   "source": [
    "#### Postorder Traversal Algorithm"
   ]
  },
  {
   "cell_type": "code",
   "execution_count": 19,
   "metadata": {},
   "outputs": [
    {
     "data": {
      "text/plain": [
       "{'L': 1,\n",
       " 'G': 2,\n",
       " 'D': 3,\n",
       " 'M': 4,\n",
       " 'H': 5,\n",
       " 'N': 6,\n",
       " 'I': 7,\n",
       " 'E': 8,\n",
       " 'B': 9,\n",
       " 'O': 10,\n",
       " 'P': 11,\n",
       " 'J': 12,\n",
       " 'Q': 13,\n",
       " 'K': 14,\n",
       " 'F': 15,\n",
       " 'C': 16,\n",
       " 'A': 17}"
      ]
     },
     "execution_count": 19,
     "metadata": {},
     "output_type": "execute_result"
    }
   ],
   "source": [
    "#Ed=[['A', 'B', 'l'], ['A', 'C', 'r'], ['B', 'E', 'r'], ['B', 'D', 'l'], ['D', 'F', 'r'], ['E', 'G', 'l']]\n",
    "\n",
    "Ed=[['A', 'B', 'l'], ['A', 'C', 'r'], ['B', 'D', 'l'], ['B', 'E', 'r'], ['D', 'G', 'l'], ['G', 'L', 'l'], ['E', 'I', 'r'], ['E', 'H', 'l'], ['H', 'M', 'l'], ['I', 'N', 'l'], ['C', 'F', 'r'], ['F', 'K', 'r'], ['F', 'J', 'l'], ['K', 'Q', 'r'], ['J', 'O', 'l'], ['J', 'P', 'r']]\n",
    "\n",
    "def Posto_trav(Ed):\n",
    "    E1=[]\n",
    "    E2=[]\n",
    "    for i in Ed:\n",
    "        E1+=[i[:2], ]\n",
    "        E2+=[i[2], ]\n",
    "\n",
    "    V=list(set(flatten(E1)))\n",
    "\n",
    "    # we need to determine the root, i.e, the node which has indegree=0\n",
    "    In=0\n",
    "    root=''\n",
    "    for v in V:\n",
    "        for i in E1:\n",
    "            if i[1]==v:In+=1\n",
    "        if In==0:\n",
    "            root=v\n",
    "            break \n",
    "        else: In=0\n",
    "\n",
    "    st=root\n",
    "    L1={st:'-'}\n",
    "    L2={}\n",
    "\n",
    "    k=1\n",
    "    while len(L2)!=len(V):\n",
    "        t1=[]\n",
    "        t2=[]\n",
    "        for i in E1:\n",
    "            if i[0]==st and i[1] not in L2:\n",
    "                t1+=[i, ]\n",
    "                t2+=[E2[E1.index(i)], ]  \n",
    "    \n",
    "        if len(t2)==2:\n",
    "            ind=t2.index('l')\n",
    "            e=t1[ind]\n",
    "            L1[e[1]]=st\n",
    "            st=e[1]\n",
    "    \n",
    "        elif len(t2)==1:\n",
    "            e=t1[0]\n",
    "            L1[e[1]]=st\n",
    "            st=e[1]\n",
    "    \n",
    "        else:\n",
    "            L2[st]=k\n",
    "            e=[L1[st], st]\n",
    "            if e[0]=='-': \n",
    "                L2[e[1]]=k\n",
    "                break\n",
    "            st=L1[st]\n",
    "            ind1=E1.index(e)\n",
    "            del E1[ind1]\n",
    "            del E2[ind1]\n",
    "            k+=1\n",
    "            \n",
    "    return(L2)\n",
    "\n",
    "Posto_trav(Ed)"
   ]
  },
  {
   "cell_type": "markdown",
   "metadata": {},
   "source": [
    "#### Inorder Traversal Algorithm"
   ]
  },
  {
   "cell_type": "code",
   "execution_count": 16,
   "metadata": {},
   "outputs": [
    {
     "data": {
      "text/plain": [
       "{'L': 1,\n",
       " 'G': 2,\n",
       " 'D': 3,\n",
       " 'B': 4,\n",
       " 'M': 5,\n",
       " 'H': 6,\n",
       " 'E': 7,\n",
       " 'N': 8,\n",
       " 'I': 9,\n",
       " 'A': 10,\n",
       " 'C': 11,\n",
       " 'O': 12,\n",
       " 'J': 13,\n",
       " 'P': 14,\n",
       " 'F': 15,\n",
       " 'K': 16,\n",
       " 'Q': 17}"
      ]
     },
     "execution_count": 16,
     "metadata": {},
     "output_type": "execute_result"
    }
   ],
   "source": [
    "#Ed=[['A', 'B', 'l'], ['A', 'C', 'r'], ['B', 'E', 'r'], ['B', 'D', 'l'], ['D', 'F', 'r'], ['E', 'G', 'l']]\n",
    "\n",
    "Ed=[['A', 'B', 'l'], ['A', 'C', 'r'], ['B', 'D', 'l'], ['B', 'E', 'r'], ['D', 'G', 'l'], ['G', 'L', 'l'], ['E', 'I', 'r'], ['E', 'H', 'l'], ['H', 'M', 'l'], ['I', 'N', 'l'], ['C', 'F', 'r'], ['F', 'K', 'r'], ['F', 'J', 'l'], ['K', 'Q', 'r'], ['J', 'O', 'l'], ['J', 'P', 'r']]\n",
    "\n",
    "def Ino_trav(Ed):\n",
    "    E1=[]\n",
    "    E2=[]\n",
    "    for i in Ed:\n",
    "        E1+=[i[:2], ]\n",
    "        E2+=[i[2], ]\n",
    "\n",
    "    V=list(set(flatten(E1)))\n",
    "\n",
    "    # we need to determine the root, i.e, the node which has indegree=0\n",
    "    In=0\n",
    "    root=''\n",
    "    for v in V:\n",
    "        for i in E1:\n",
    "            if i[1]==v:In+=1\n",
    "        if In==0:\n",
    "            root=v\n",
    "            break \n",
    "        else: In=0\n",
    "\n",
    "    st=root\n",
    "    L1={st:'-'}\n",
    "    L2={}\n",
    "    k=1\n",
    "\n",
    "    while len(L2)!=len(V):\n",
    "        t1=[]\n",
    "        t2=[]\n",
    "        for i in E1:\n",
    "            if i[0]==st and i[1] not in L2:\n",
    "                t1+=[i, ]\n",
    "                t2+=[E2[E1.index(i)], ]  \n",
    "    \n",
    "        if len(t2)==2:\n",
    "            ind=t2.index('l')\n",
    "            e=t1[ind]\n",
    "            L1[e[1]]=st\n",
    "            st=e[1]\n",
    "    \n",
    "        elif len(t2)==1:\n",
    "            if t2[0]=='l':\n",
    "                e=t1[0]\n",
    "                L1[e[1]]=st\n",
    "                st=e[1]\n",
    "        \n",
    "            else:\n",
    "                e=t1[0]\n",
    "                L2[e[0]]=k\n",
    "                L1[e[1]]=st\n",
    "                st=e[1]\n",
    "                k+=1\n",
    "        \n",
    "        else:\n",
    "            if st in L2:\n",
    "                st=L1[st]\n",
    "            else:\n",
    "                L2[st]=k\n",
    "                e=[L1[st], st]\n",
    "                if e[0]=='-': \n",
    "                    L2[e[1]]=k\n",
    "                    break\n",
    "                st=L1[st]\n",
    "                k+=1\n",
    "    return(L2)\n",
    "\n",
    "Ino_trav(Ed)"
   ]
  },
  {
   "cell_type": "markdown",
   "metadata": {},
   "source": [
    "#### Huffman's Optimal Binary Tree Algorithm: \n",
    "##### For nonnegative real numbers $w_1$, $w_2$, ..., $w_k$, where $k>=2$, this algorithm constructs an optimal binary tree for the weights $w_1$, $w_2$, ..., $w_k$. In the algorithm a vertex is referred to by its label"
   ]
  },
  {
   "cell_type": "code",
   "execution_count": 50,
   "metadata": {},
   "outputs": [
    {
     "data": {
      "text/plain": [
       "[[5, 1, 'l'],\n",
       " [5, 4, 'r'],\n",
       " [14, 5, 'l'],\n",
       " [14, 9, 'r'],\n",
       " [30, 14, 'l'],\n",
       " [30, 16, 'r'],\n",
       " [55, 25, 'l'],\n",
       " [55, 30, 'r'],\n",
       " [91, 36, 'l'],\n",
       " [91, 55, 'r']]"
      ]
     },
     "execution_count": 50,
     "metadata": {},
     "output_type": "execute_result"
    }
   ],
   "source": [
    "#S=[2, 3, 4, 7, 8]\n",
    "#S=[2, 4, 5, 6]\n",
    "#S=[2, 3, 5, 5, 6]\n",
    "#S=[10, 12, 13, 16, 17, 17]\n",
    "\n",
    "#Ex 5.6, 33\n",
    "S=[1, 4, 9, 16, 25, 36]\n",
    "\n",
    "def HOBT(S):\n",
    "    S.sort()\n",
    "    S1=S[:]\n",
    "    T=[]\n",
    "    while len(S)!=1:\n",
    "        m1=min(S1)\n",
    "        del S1[S1.index(m1)]\n",
    "        m2=min(S1)\n",
    "        del S1[S1.index(m2)]\n",
    "        root=m1+m2\n",
    "    \n",
    "        if m1!=m2:\n",
    "            ind1=S.index(m1)\n",
    "            ind2=S.index(m2)\n",
    "        else:\n",
    "            ind1=S.index(m1)\n",
    "            S[ind1]+=1\n",
    "            ind2=S.index(m2)\n",
    "            S[ind1]-=1\n",
    "    \n",
    "        i1=ind1 if ind1<=ind2 else ind2\n",
    "        i2=ind1 if i1==ind2 else ind2\n",
    "        T+=[[root, S[i1], 'l'], ]\n",
    "        T+=[[root, S[i2], 'r'], ]\n",
    "        S[i1]=root\n",
    "        del S[i2]\n",
    "        S1=S[:]\n",
    "        S.sort()\n",
    "        S1.sort()\n",
    "    return T\n",
    "\n",
    "HOBT(S)"
   ]
  },
  {
   "cell_type": "code",
   "execution_count": 51,
   "metadata": {},
   "outputs": [
    {
     "data": {
      "text/plain": [
       "[[5, 1, 'l'],\n",
       " [5, 4, 'r'],\n",
       " [25, 5, 'l'],\n",
       " [25, 20, 'r'],\n",
       " [53, 25, 'l'],\n",
       " [53, 28, 'r'],\n",
       " [85, 32, 'l'],\n",
       " [85, 53, 'r']]"
      ]
     },
     "execution_count": 51,
     "metadata": {},
     "output_type": "execute_result"
    }
   ],
   "source": [
    "HOBT([32, 28, 20, 4, 1])"
   ]
  },
  {
   "cell_type": "markdown",
   "metadata": {},
   "source": [
    "#### Binary Search Tree Construction Algorithm\n",
    "\n",
    "##### This algorithm constructs a binary search tree in which the vertices are labeled $a_1$, $a_2$, ..., $a_n$, where $a_1$, $a_2$, ..., $a_n$ are distinct and $n>=2$. In the algorithm, the vertex is referred to by its label"
   ]
  },
  {
   "cell_type": "code",
   "execution_count": 76,
   "metadata": {},
   "outputs": [
    {
     "data": {
      "text/plain": [
       "[[14, 17, 'r'],\n",
       " [14, 3, 'l'],\n",
       " [3, 6, 'r'],\n",
       " [17, 15, 'l'],\n",
       " [3, 1, 'l'],\n",
       " [17, 20, 'r'],\n",
       " [1, 2, 'r'],\n",
       " [6, 5, 'l'],\n",
       " [6, 10, 'r'],\n",
       " [20, 18, 'l'],\n",
       " [10, 7, 'l'],\n",
       " [15, 16, 'r']]"
      ]
     },
     "execution_count": 76,
     "metadata": {},
     "output_type": "execute_result"
    }
   ],
   "source": [
    "#a=[5, 9, 8, 1, 2, 4, 10, 6]\n",
    "\n",
    "#Ex. 5.6, 51\n",
    "a=[14, 17, 3, 6, 15, 1, 20, 2, 5, 10, 18, 7, 16]\n",
    "\n",
    "def BSTC(a):\n",
    "    n=len(a)\n",
    "    root=a[0]\n",
    "    T=[]\n",
    "\n",
    "    k=1\n",
    "    while k<n:\n",
    "        V=root\n",
    "        while True:\n",
    "            temp=[]\n",
    "            l=0\n",
    "            r=0\n",
    "            for i in T:\n",
    "                if i[0]==V:\n",
    "                    if i[2]=='l':l+=1\n",
    "                    else: r+=1\n",
    "                    temp+=[i, ]\n",
    "\n",
    "            if a[k]<V:\n",
    "                if l==0:\n",
    "                    T+=[[V, a[k], 'l'], ]\n",
    "                    break\n",
    "                else: V=temp[0][1] if temp[0][2]=='l' else temp[1][1]\n",
    "            elif a[k]>V:\n",
    "                if r==0:\n",
    "                    T+=[[V, a[k], 'r'], ]\n",
    "                    break\n",
    "                else: V=temp[0][1] if temp[0][2]=='r' else temp[1][1]\n",
    "\n",
    "        k+=1\n",
    "    return (T)\n",
    "\n",
    "BSTC(a)"
   ]
  },
  {
   "cell_type": "markdown",
   "metadata": {},
   "source": [
    "#### Binary Search Tree Search Algorithm"
   ]
  },
  {
   "cell_type": "code",
   "execution_count": 87,
   "metadata": {},
   "outputs": [
    {
     "data": {
      "text/plain": [
       "False"
      ]
     },
     "execution_count": 87,
     "metadata": {},
     "output_type": "execute_result"
    }
   ],
   "source": [
    "T=[[5, 9, 'r'], [9, 8, 'l'], [5, 1, 'l'], [1, 2, 'r'], [2, 4, 'r'], [9, 10, 'r'], [8, 6, 'l']]\n",
    "s=7\n",
    "\n",
    "def BSTS(T, s):\n",
    "    \"\"\"T is the binary search tree, s is the element to be searched\"\"\"\n",
    "    E1=[]\n",
    "    E2=[]\n",
    "    for i in T:\n",
    "        E1+=[i[:2], ]\n",
    "        E2+=[i[2], ]\n",
    "\n",
    "    V=list(set(flatten(E1)))\n",
    "\n",
    "    # we need to determine the root, i.e, the node which has indegree=0\n",
    "    In=0\n",
    "    root=0\n",
    "    for v in V:\n",
    "        for i in E1:\n",
    "            if i[1]==v:In+=1\n",
    "        if In==0:\n",
    "            root=v\n",
    "            break \n",
    "        else: In=0\n",
    "\n",
    "    v=root\n",
    "\n",
    "    while True:\n",
    "        if s==v: return True\n",
    "    \n",
    "        t1=[]\n",
    "        t2=[]\n",
    "        for i in range(len(E1)):\n",
    "            if E1[i][0]==v:\n",
    "                t1+=[E1[i], ]\n",
    "                t2+=[E2[i], ]\n",
    "    \n",
    "        if len(t2)==2:\n",
    "            if s>v:\n",
    "                ind=t2.index('r')\n",
    "                e=t1[ind]\n",
    "                v=e[1]\n",
    "            elif s<v:\n",
    "                ind=t2.index('l')\n",
    "                e=t1[ind]\n",
    "                v=e[1]\n",
    "    \n",
    "        elif len(t2)==1:\n",
    "            if s<v:\n",
    "                if t2[0]=='l':\n",
    "                    e=t1[0]\n",
    "                    v=e[1]\n",
    "                elif t2[0]=='r': return False\n",
    "            elif s>v:\n",
    "                if t2[0]=='l': return False\n",
    "                elif t2[0]=='r':\n",
    "                    e=t1[0]\n",
    "                    v=e[1]\n",
    "        else: return False\n",
    "\n",
    "BSTS(T, s)\n",
    "               "
   ]
  },
  {
   "cell_type": "code",
   "execution_count": null,
   "metadata": {},
   "outputs": [],
   "source": []
  }
 ],
 "metadata": {
  "kernelspec": {
   "display_name": "Python 3",
   "language": "python",
   "name": "python3"
  },
  "language_info": {
   "codemirror_mode": {
    "name": "ipython",
    "version": 3
   },
   "file_extension": ".py",
   "mimetype": "text/x-python",
   "name": "python",
   "nbconvert_exporter": "python",
   "pygments_lexer": "ipython3",
   "version": "3.6.5"
  }
 },
 "nbformat": 4,
 "nbformat_minor": 2
}
