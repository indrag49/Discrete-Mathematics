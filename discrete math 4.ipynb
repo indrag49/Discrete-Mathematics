{
 "cells": [
  {
   "cell_type": "code",
   "execution_count": 37,
   "metadata": {},
   "outputs": [],
   "source": [
    "import numpy as np\n",
    "import random\n",
    "from sympy import *"
   ]
  },
  {
   "cell_type": "markdown",
   "metadata": {},
   "source": [
    "### Chapter 7"
   ]
  },
  {
   "cell_type": "markdown",
   "metadata": {},
   "source": [
    "#### Flow Augmentation Algorithm"
   ]
  },
  {
   "cell_type": "code",
   "execution_count": 66,
   "metadata": {},
   "outputs": [
    {
     "data": {
      "text/plain": [
       "[['A', 'B', 5, 4],\n",
       " ['A', 'C', 7, 7],\n",
       " ['A', 'D', 4, 3],\n",
       " ['D', 'E', 4, 3],\n",
       " ['B', 'C', 1, 1],\n",
       " ['C', 'D', 2, 0],\n",
       " ['C', 'E', 5, 4],\n",
       " ['B', 'F', 3, 3],\n",
       " ['C', 'F', 4, 4],\n",
       " ['E', 'F', 1, 1],\n",
       " ['F', 'G', 9, 8],\n",
       " ['E', 'G', 6, 6]]"
      ]
     },
     "execution_count": 66,
     "metadata": {},
     "output_type": "execute_result"
    }
   ],
   "source": [
    "#G=[['A', 'C', 8], ['A', 'B', 6], ['A', 'D', 3], ['B', 'C', 5], ['B', 'D', 6], ['D', 'E', 9], ['C', 'E', 4]]\n",
    "G=[['A', 'B', 5], ['A', 'C', 7], ['A', 'D', 4], ['D', 'E', 4], ['B', 'C', 1], ['C', 'D', 2], ['C', 'E', 5], ['B', 'F', 3], ['C', 'F', 4], ['E', 'F', 1], ['F', 'G', 9], ['E', 'G', 6]]\n",
    "\n",
    "#Ex 7.2, 27\n",
    "#G=[['A', 'B', 4], ['B', 'D', 2], ['A', 'D', 9], ['A', 'C', 6], ['C', 'D', 2], ['B', 'E', 3], ['C', 'F', 4], ['D', 'E', 4], ['D', 'F', 4], ['E', 'G', 7], ['D', 'G', 3], ['F', 'G', 9]]\n",
    "\n",
    "def FAA(G):\n",
    "    G1, G2=[], []\n",
    "    for i in G:\n",
    "        G1+=[i[:-1], ]\n",
    "        G2+=[i[-1], ]\n",
    "    G3=[0]*len(G1)\n",
    "\n",
    "    #determine the source and the sink\n",
    "    V=list(set(flatten(G1)))\n",
    "    V.sort()\n",
    "\n",
    "    In=0\n",
    "    source=''\n",
    "    for v in V:\n",
    "        for i in G1:\n",
    "            if i[1]==v:In+=1\n",
    "        if In==0:\n",
    "            source=v\n",
    "            break \n",
    "        else: In=0\n",
    "\n",
    "    Out=0\n",
    "    sink=''\n",
    "    for v in V:\n",
    "        for i in G1:\n",
    "            if i[0]==v:Out+=1\n",
    "        if Out==0:\n",
    "            sink=v\n",
    "            break \n",
    "        else: Out=0\n",
    "\n",
    "    L={source:['source', '+', oo]}\n",
    "    l=[source]\n",
    "    l1=l[:]\n",
    "    S=[]\n",
    "\n",
    "    while True:\n",
    "        while len(l)!=len(S):\n",
    "            for v in l:\n",
    "                if v not in S:\n",
    "                    for w in V:\n",
    "                        if w not in L:\n",
    "                            if [v, w] in G1:\n",
    "                                ind=G1.index([v, w])\n",
    "                                if G3[ind]<G2[ind]:L[w]=[v, '+', min(L[v][2], G2[ind]-G3[ind])]\n",
    "                            elif [w, v] in G1:\n",
    "                                ind=G1.index([w, v])\n",
    "                                if G3[ind]>0:L[w]=[v, '-', min(L[v][2], G3[ind])]\n",
    "                    S+=[v, ]\n",
    "   \n",
    "            for i in L.keys():\n",
    "                if i not in l: l+=[i,]\n",
    "            if sink in l: break\n",
    "    \n",
    "        if sink not in l:\n",
    "            break\n",
    "        else:\n",
    "            v=sink\n",
    "        \n",
    "            a=L[v][2]\n",
    "            while v!=source:\n",
    "                u=L[v][0]\n",
    "                if L[v][1]=='+':\n",
    "                    ind=G1.index([u, v])\n",
    "                    G3[ind]+=a\n",
    "                elif L[v][1]=='-':\n",
    "                    ind=G1.index([v, u])\n",
    "                    G3[ind]-=a\n",
    "                v=u\n",
    "            L={source:['source', '+', oo]}\n",
    "            l=[source]\n",
    "            S=[]\n",
    "    \n",
    "    return [[G1[i][0], G1[i][1], G2[i], G3[i]] for i in range(len(G1))]\n",
    "FAA(G)        "
   ]
  },
  {
   "cell_type": "code",
   "execution_count": null,
   "metadata": {},
   "outputs": [],
   "source": []
  }
 ],
 "metadata": {
  "kernelspec": {
   "display_name": "Python 3",
   "language": "python",
   "name": "python3"
  },
  "language_info": {
   "codemirror_mode": {
    "name": "ipython",
    "version": 3
   },
   "file_extension": ".py",
   "mimetype": "text/x-python",
   "name": "python",
   "nbconvert_exporter": "python",
   "pygments_lexer": "ipython3",
   "version": "3.6.5"
  }
 },
 "nbformat": 4,
 "nbformat_minor": 2
}
